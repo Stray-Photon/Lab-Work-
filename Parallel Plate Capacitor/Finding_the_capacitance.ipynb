{
 "cells": [
  {
   "cell_type": "code",
   "execution_count": 4,
   "metadata": {},
   "outputs": [
    {
     "name": "stdout",
     "output_type": "stream",
     "text": [
      "The valuse of C is: 2.032111122215211e-05\n"
     ]
    }
   ],
   "source": [
    "import numpy as np\n",
    "Vr,d=np.loadtxt(Vr-d.txt,delimiter=',',unpack=True)\n",
    "R=10000\n",
    "f=1000\n",
    "C=[]\n",
    "for i in Vr\n",
    "    #f = float(input('Enter the value of f:'))           # Variables\n",
    "    #R = float(input('Enter the value of R:'))\n",
    "    \n",
    "    \n",
    "    Vo =  Vr*np.sqrt(2)\n",
    "\n",
    "    C.append(i/(2*np.pi*f*R*np.sqrt((Vo)**2 - (i)**2)))\n",
    "print(\"The valuse of C is:\",C)\n",
    "C"
   ]
  },
  {
   "cell_type": "code",
   "execution_count": 5,
   "metadata": {},
   "outputs": [
    {
     "name": "stdout",
     "output_type": "stream",
     "text": [
      "hello\n"
     ]
    }
   ],
   "source": [
    "print('hello')"
   ]
  }
 ],
 "metadata": {
  "kernelspec": {
   "display_name": "Python 3",
   "language": "python",
   "name": "python3"
  },
  "language_info": {
   "codemirror_mode": {
    "name": "ipython",
    "version": 3
   },
   "file_extension": ".py",
   "mimetype": "text/x-python",
   "name": "python",
   "nbconvert_exporter": "python",
   "pygments_lexer": "ipython3",
   "version": "3.11.0"
  },
  "orig_nbformat": 4
 },
 "nbformat": 4,
 "nbformat_minor": 2
}
