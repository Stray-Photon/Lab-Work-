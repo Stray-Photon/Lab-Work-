{
 "cells": [
  {
   "cell_type": "code",
   "execution_count": 19,
   "metadata": {},
   "outputs": [],
   "source": [
    "import numpy as np\n",
    "import matplotlib.pyplot as plt  \n",
    "from scipy import stats"
   ]
  },
  {
   "cell_type": "code",
   "execution_count": 20,
   "metadata": {},
   "outputs": [],
   "source": [
    "# Diameters in mm\n",
    "D = [1.1,1.62,1.96,2.62,2.96,3.42,3.58,3.78,3.98,4.48,5.14,5.28,5.36,5.84,5.92,5.96,6.28,6.46,6.68,7.02]\n",
    "# mth no. of Diameters\n",
    "n = []\n",
    "\n",
    "for i in range(1,21):\n",
    "    n.append(i)"
   ]
  },
  {
   "cell_type": "code",
   "execution_count": 21,
   "metadata": {},
   "outputs": [
    {
     "data": {
      "text/plain": [
       "array([0.0121  , 0.026244, 0.038416, 0.068644, 0.087616, 0.116964,\n",
       "       0.128164, 0.142884, 0.158404, 0.200704, 0.264196, 0.278784,\n",
       "       0.287296, 0.341056, 0.350464, 0.355216, 0.394384, 0.417316,\n",
       "       0.446224, 0.492804])"
      ]
     },
     "execution_count": 21,
     "metadata": {},
     "output_type": "execute_result"
    }
   ],
   "source": [
    "D = np.array(D)\n",
    "n = np.array(n)         # making the lists numpy arrays \n",
    "\n",
    "Dcm = D/10      # Diameters in cm\n",
    "Dsq = Dcm**2\n",
    "\n",
    "Dsq"
   ]
  },
  {
   "cell_type": "code",
   "execution_count": 22,
   "metadata": {},
   "outputs": [
    {
     "data": {
      "text/plain": [
       "array([0.11 , 0.162, 0.196, 0.262, 0.296, 0.342, 0.358, 0.378, 0.398,\n",
       "       0.448, 0.514, 0.528, 0.536, 0.584, 0.592, 0.596, 0.628, 0.646,\n",
       "       0.668, 0.702])"
      ]
     },
     "execution_count": 22,
     "metadata": {},
     "output_type": "execute_result"
    }
   ],
   "source": [
    "Dcm"
   ]
  },
  {
   "cell_type": "code",
   "execution_count": 23,
   "metadata": {},
   "outputs": [
    {
     "data": {
      "image/png": "[encoded data removed]",
      "text/plain": [
       "<Figure size 640x480 with 1 Axes>"
      ]
     },
     "metadata": {},
     "output_type": "display_data"
    }
   ],
   "source": [
    "slope, intercept, r_value, p_value, std_err = stats.linregress(n, Dsq)\n",
    "regression_line = slope * n + intercept\n",
    "plt.plot(n,Dsq,'bo')\n",
    "plt.plot(n, regression_line, color=\"red\", label=\"least square fit\")  # Linear regression line\n",
    "plt.xlabel(\"$n$\")\n",
    "plt.ylabel(\"${D_{n}}^2$ (in $cm^2$)\")\n",
    "plt.legend()\n",
    "plt.title(\"${D_{n}}^2$ v/s $n$\")\n",
    "plt.grid(True)\n",
    "plt.savefig('Dnsq vs n.png')"
   ]
  },
  {
   "cell_type": "code",
   "execution_count": 24,
   "metadata": {},
   "outputs": [
    {
     "data": {
      "text/plain": [
       "(0.025468565413533834, -0.037025936842105256, 0.0006240666959973154)"
      ]
     },
     "execution_count": 24,
     "metadata": {},
     "output_type": "execute_result"
    }
   ],
   "source": [
    "slope, intercept, std_err"
   ]
  },
  {
   "cell_type": "code",
   "execution_count": 25,
   "metadata": {},
   "outputs": [
    {
     "data": {
      "text/plain": [
       "147.01"
      ]
     },
     "execution_count": 25,
     "metadata": {},
     "output_type": "execute_result"
    }
   ],
   "source": [
    "i=1\n",
    "h = 0.02\n",
    "L = 4.2         # in cm\n",
    "\n",
    "R = (L**2/(6*h))+(h/2)\n",
    "R"
   ]
  },
  {
   "cell_type": "code",
   "execution_count": 34,
   "metadata": {},
   "outputs": [
    {
     "data": {
      "text/plain": [
       "9.441888201176377e-05"
      ]
     },
     "execution_count": 34,
     "metadata": {},
     "output_type": "execute_result"
    }
   ],
   "source": [
    "lamb = []\n",
    "for i in range(1,12):\n",
    "    x = (Dsq[i+8]-Dsq[i])/(4*i*R)\n",
    "    lamb.append(x)\n",
    "\n",
    "np.mean(lamb)"
   ]
  },
  {
   "cell_type": "code",
   "execution_count": 27,
   "metadata": {},
   "outputs": [
    {
     "data": {
      "text/plain": [
       "4.509982314128291e-05"
      ]
     },
     "execution_count": 27,
     "metadata": {},
     "output_type": "execute_result"
    }
   ],
   "source": [
    "lamb1 = (Dsq[19] - Dsq[11])/(4*8*R)\n",
    "lamb2 = (Dsq[15] - Dsq[7])/(4*8*R)\n",
    "lamb3 = (Dsq[11] - Dsq[3])/(4*8*R)\n",
    "\n",
    "lamb = (lamb1 + lamb2 + lamb3)/3\n",
    "\n",
    "lamb"
   ]
  },
  {
   "cell_type": "code",
   "execution_count": null,
   "metadata": {},
   "outputs": [],
   "source": [
    "j = np.mean(lamb)\n",
    "j"
   ]
  },
  {
   "cell_type": "code",
   "execution_count": 28,
   "metadata": {},
   "outputs": [
    {
     "data": {
      "text/plain": [
       "23.429841865394046"
      ]
     },
     "execution_count": 28,
     "metadata": {},
     "output_type": "execute_result"
    }
   ],
   "source": [
    "## Error Analysis\n",
    "\n",
    "exclamb = 5.89e-5\n",
    "\n",
    "error = ((exclamb - lamb)/exclamb)\n",
    "percent_error = ((exclamb - lamb)/exclamb)*100\n",
    "\n",
    "percent_error"
   ]
  },
  {
   "cell_type": "code",
   "execution_count": 29,
   "metadata": {},
   "outputs": [
    {
     "data": {
      "text/plain": [
       "141.17885414843644"
      ]
     },
     "execution_count": 29,
     "metadata": {},
     "output_type": "execute_result"
    }
   ],
   "source": [
    "Rgraph = slope/(4*lamb)\n",
    "Rgraph"
   ]
  },
  {
   "cell_type": "code",
   "execution_count": 30,
   "metadata": {},
   "outputs": [
    {
     "data": {
      "text/plain": [
       "4.331094043523202e-05"
      ]
     },
     "execution_count": 30,
     "metadata": {},
     "output_type": "execute_result"
    }
   ],
   "source": [
    "lamb = slope/(4*R)\n",
    "lamb"
   ]
  }
 ],
 "metadata": {
  "kernelspec": {
   "display_name": "Python 3",
   "language": "python",
   "name": "python3"
  },
  "language_info": {
   "codemirror_mode": {
    "name": "ipython",
    "version": 3
   },
   "file_extension": ".py",
   "mimetype": "text/x-python",
   "name": "python",
   "nbconvert_exporter": "python",
   "pygments_lexer": "ipython3",
   "version": "3.11.0"
  },
  "orig_nbformat": 4
 },
 "nbformat": 4,
 "nbformat_minor": 2
}
